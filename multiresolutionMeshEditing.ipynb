{
 "cells": [
  {
   "cell_type": "code",
   "execution_count": 1,
   "id": "05915f6d",
   "metadata": {},
   "outputs": [],
   "source": [
    "import numpy as np\n",
    "import igl\n",
    "import meshplot as mp\n",
    "\n",
    "from scipy.sparse.linalg import spsolve\n",
    "import scipy.sparse as sp"
   ]
  },
  {
   "cell_type": "code",
   "execution_count": 2,
   "id": "92ae4260",
   "metadata": {},
   "outputs": [],
   "source": [
    "# decomposes the mesh into a smoothed version of itself and displacement data \n",
    "# that describes surface detail in relation to the smoothed mesh \n",
    "def decompose(labels, v, f):\n",
    "    Lw = igl.cotmatrix(v, f)\n",
    "    M = igl.massmatrix(v, f, igl.MASSMATRIX_TYPE_VORONOI)\n",
    "    Minv = sp.diags(1 / M.diagonal())\n",
    "    \n",
    "    try:\n",
    "        A = Lw.dot(Minv.dot(Lw)).todense()\n",
    "        b = np.zeros(v.shape)\n",
    "        I = np.identity(A.shape[0])\n",
    "\n",
    "        for index, point in enumerate(v):\n",
    "            if labels[index] == 0:\n",
    "                continue\n",
    "\n",
    "            b[index] = v[index]\n",
    "            A[index] = I[index]\n",
    "\n",
    "        A = sp.csr_matrix(A)\n",
    "        B = spsolve(A, b)\n",
    "        \n",
    "    except:\n",
    "        A = Lw.dot(Minv.dot(Lw)).tolil()\n",
    "        b = np.zeros(v.shape)\n",
    "\n",
    "        for index, point in enumerate(v):\n",
    "            if labels[index] == 0:\n",
    "                continue\n",
    "\n",
    "            b[index] = v[index]\n",
    "            A[index] = np.zeros(A.shape[0]) \n",
    "            A[index, index] = 1.0\n",
    "\n",
    "        B = spsolve(A.tocsr(), b)\n",
    "    \n",
    "    indices = []\n",
    "    d = np.zeros(v.shape)\n",
    "    adjacency = igl.adjacency_list(f)\n",
    "    n = igl.per_vertex_normals(B, f, igl.PER_VERTEX_NORMALS_WEIGHTING_TYPE_UNIFORM)\n",
    "\n",
    "    for index, point in enumerate(v):\n",
    "        di = point - B[index]\n",
    "\n",
    "        T1 = n[index]\n",
    "        projections = [(vertex - B[index]) - (np.dot(vertex - B[index], T1) * T1) for vertex in B[adjacency[index]]]\n",
    "        lengths = np.linalg.norm(projections, axis=1)\n",
    "        i = np.argmax(lengths)\n",
    "        T2 = projections[i] / lengths[i]\n",
    "        T3 = np.cross(T1, T2)\n",
    "\n",
    "        d[index] = np.array([np.dot(di, T1), np.dot(di, T2), np.dot(di, T3)])\n",
    "        indices.append(i)\n",
    "\n",
    "    return B, d, indices\n",
    "\n",
    "# deforms the smoothed mesh\n",
    "def deform(handle_vertex_positions, v, f):\n",
    "    Lw = igl.cotmatrix(v, f)\n",
    "    M = igl.massmatrix(v, f, igl.MASSMATRIX_TYPE_VORONOI)\n",
    "    Minv = sp.diags(1 / M.diagonal())\n",
    "    \n",
    "    try:\n",
    "        A = Lw.dot(Minv.dot(Lw)).todense()\n",
    "        b = np.zeros(v.shape)\n",
    "        I = np.identity(A.shape[0])\n",
    "\n",
    "        for index, point in enumerate(v):\n",
    "            if labels[index] == 0:\n",
    "                continue\n",
    "\n",
    "            b[index] = handle_vertex_positions[index]\n",
    "            A[index] = I[index]\n",
    "\n",
    "        A = sp.csr_matrix(A)\n",
    "        B = spsolve(A, b)\n",
    "        \n",
    "    except:\n",
    "        A = Lw.dot(Minv.dot(Lw)).tolil()\n",
    "        b = np.zeros(v.shape)\n",
    "\n",
    "        for index, point in enumerate(v):\n",
    "            if labels[index] == 0:\n",
    "                continue\n",
    "\n",
    "            b[index] = handle_vertex_positions[index]\n",
    "            A[index] = np.zeros(A.shape[0]) \n",
    "            A[index, index] = 1.0\n",
    "\n",
    "        B = spsolve(A.tocsr(), b)\n",
    "    \n",
    "    return B\n",
    "\n",
    "# reintroduces surface detail to the deformed mesh\n",
    "def reconstruct(B, d, indices, v, f):\n",
    "    n = igl.per_vertex_normals(B, f, igl.PER_VERTEX_NORMALS_WEIGHTING_TYPE_UNIFORM)\n",
    "    adjacency = igl.adjacency_list(f)\n",
    "    vprime = np.zeros(v.shape)\n",
    "\n",
    "    for index, point in enumerate(B):\n",
    "        T1 = n[index]\n",
    "        projections = [(vertex - point) - (np.dot(vertex - point, T1) * T1) for vertex in B[adjacency[index]]]\n",
    "        lengths = np.linalg.norm(projections, axis=1)\n",
    "        i = indices[index]\n",
    "        T2 = projections[i] / lengths[i]\n",
    "        T3 = np.cross(T1, T2)\n",
    "\n",
    "        vprime[index] = (d[index][0] * T1) + (d[index][1] * T2) + (d[index][2] * T3) + point\n",
    "\n",
    "    return vprime"
   ]
  },
  {
   "cell_type": "code",
   "execution_count": 3,
   "id": "82619af2",
   "metadata": {},
   "outputs": [
    {
     "data": {
      "application/vnd.jupyter.widget-view+json": {
       "model_id": "632585806adb4d6e9337e51de8334b7d",
       "version_major": 2,
       "version_minor": 0
      },
      "text/plain": [
       "Renderer(camera=PerspectiveCamera(children=(DirectionalLight(color='white', intensity=0.6, position=(0.5, 0.30…"
      ]
     },
     "metadata": {},
     "output_type": "display_data"
    },
    {
     "data": {
      "application/vnd.jupyter.widget-view+json": {
       "model_id": "26776ace59014850ba9fd20ecf487359",
       "version_major": 2,
       "version_minor": 0
      },
      "text/plain": [
       "Renderer(camera=PerspectiveCamera(children=(DirectionalLight(color='white', intensity=0.6, position=(0.5114811…"
      ]
     },
     "metadata": {},
     "output_type": "display_data"
    },
    {
     "data": {
      "application/vnd.jupyter.widget-view+json": {
       "model_id": "3ba6e3b909a64317aecb2696831e9854",
       "version_major": 2,
       "version_minor": 0
      },
      "text/plain": [
       "Renderer(camera=PerspectiveCamera(children=(DirectionalLight(color='white', intensity=0.6, position=(0.4900078…"
      ]
     },
     "metadata": {},
     "output_type": "display_data"
    },
    {
     "data": {
      "application/vnd.jupyter.widget-view+json": {
       "model_id": "8048ec410fee42cea882e827d9200d5f",
       "version_major": 2,
       "version_minor": 0
      },
      "text/plain": [
       "Renderer(camera=PerspectiveCamera(children=(DirectionalLight(color='white', intensity=0.6, position=(0.4870488…"
      ]
     },
     "metadata": {},
     "output_type": "display_data"
    }
   ],
   "source": [
    "v, f = igl.read_triangle_mesh('data/cow.off')\n",
    "labels = np.load('data/cow.label.npy').astype(int)\n",
    "handle_vertex_positions = np.load('data/cow.pos.npy')\n",
    "v -= v.min(axis=0)\n",
    "v /= v.max()\n",
    "\n",
    "# the original mesh\n",
    "p = mp.plot(v, f, c=labels)\n",
    "\n",
    "smoothed, details, outgoing_edges = decompose(labels, v, f)\n",
    "\n",
    "# the smoothed mesh, removed surface detail is shown using lines\n",
    "p = mp.plot(smoothed, f, c=labels)\n",
    "p.add_lines(v, smoothed)\n",
    "\n",
    "deformed = deform(handle_vertex_positions, v, f)\n",
    "result = reconstruct(deformed, details, outgoing_edges, v, f)\n",
    "\n",
    "# the deformed smoothed mesh\n",
    "p = mp.plot(deformed, f, c=labels)\n",
    "p.add_lines(result, deformed)\n",
    "\n",
    "# the deformed mesh with surface detail reintroduced\n",
    "p = mp.plot(result, f, c=labels)"
   ]
  },
  {
   "cell_type": "code",
   "execution_count": null,
   "id": "d5058400",
   "metadata": {},
   "outputs": [],
   "source": []
  }
 ],
 "metadata": {
  "kernelspec": {
   "display_name": "Python 3 (ipykernel)",
   "language": "python",
   "name": "python3"
  },
  "language_info": {
   "codemirror_mode": {
    "name": "ipython",
    "version": 3
   },
   "file_extension": ".py",
   "mimetype": "text/x-python",
   "name": "python",
   "nbconvert_exporter": "python",
   "pygments_lexer": "ipython3",
   "version": "3.7.3"
  }
 },
 "nbformat": 4,
 "nbformat_minor": 5
}
